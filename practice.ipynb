{
 "cells": [
  {
   "cell_type": "code",
   "execution_count": 1,
   "id": "c088ea33",
   "metadata": {},
   "outputs": [
    {
     "name": "stdout",
     "output_type": "stream",
     "text": [
      " 1st day of python practice\n"
     ]
    }
   ],
   "source": [
    "print(\" 1st day of python practice\")"
   ]
  },
  {
   "cell_type": "code",
   "execution_count": 2,
   "id": "28065cde",
   "metadata": {},
   "outputs": [
    {
     "data": {
      "text/plain": [
       "int"
      ]
     },
     "execution_count": 2,
     "metadata": {},
     "output_type": "execute_result"
    }
   ],
   "source": [
    "a=10\n",
    "id(a)\n",
    "type(a)"
   ]
  },
  {
   "cell_type": "code",
   "execution_count": 3,
   "id": "93203071",
   "metadata": {},
   "outputs": [
    {
     "data": {
      "text/plain": [
       "str"
      ]
     },
     "execution_count": 3,
     "metadata": {},
     "output_type": "execute_result"
    }
   ],
   "source": [
    "b='20'\n",
    "type(b)"
   ]
  },
  {
   "cell_type": "code",
   "execution_count": 4,
   "id": "a88fd7ab",
   "metadata": {},
   "outputs": [
    {
     "data": {
      "text/plain": [
       "list"
      ]
     },
     "execution_count": 4,
     "metadata": {},
     "output_type": "execute_result"
    }
   ],
   "source": [
    "lst=[20,'amey',True]\n",
    "type(lst)"
   ]
  },
  {
   "cell_type": "code",
   "execution_count": 5,
   "id": "02ee8f7d",
   "metadata": {},
   "outputs": [],
   "source": [
    "c=(20,\"am\",False)"
   ]
  },
  {
   "cell_type": "code",
   "execution_count": 6,
   "id": "6e0ef92b",
   "metadata": {},
   "outputs": [
    {
     "data": {
      "text/plain": [
       "tuple"
      ]
     },
     "execution_count": 6,
     "metadata": {},
     "output_type": "execute_result"
    }
   ],
   "source": [
    "type(c)"
   ]
  },
  {
   "cell_type": "code",
   "execution_count": 7,
   "id": "6679b741",
   "metadata": {},
   "outputs": [
    {
     "data": {
      "text/plain": [
       "True"
      ]
     },
     "execution_count": 7,
     "metadata": {},
     "output_type": "execute_result"
    }
   ],
   "source": [
    "a=\"amey zende\"\n",
    "b=\"amey zende\"\n",
    "c=\"Amey Zende\"\n",
    "a==b"
   ]
  },
  {
   "cell_type": "code",
   "execution_count": 8,
   "id": "b501fc91",
   "metadata": {},
   "outputs": [
    {
     "data": {
      "text/plain": [
       "False"
      ]
     },
     "execution_count": 8,
     "metadata": {},
     "output_type": "execute_result"
    }
   ],
   "source": [
    "b==c"
   ]
  },
  {
   "cell_type": "markdown",
   "id": "10768e2b",
   "metadata": {},
   "source": [
    "typecasting"
   ]
  },
  {
   "cell_type": "code",
   "execution_count": 9,
   "id": "b65149d2",
   "metadata": {},
   "outputs": [
    {
     "data": {
      "text/plain": [
       "int"
      ]
     },
     "execution_count": 9,
     "metadata": {},
     "output_type": "execute_result"
    }
   ],
   "source": [
    "a=100\n",
    "type(a)"
   ]
  },
  {
   "cell_type": "code",
   "execution_count": 10,
   "id": "9867ae38",
   "metadata": {},
   "outputs": [
    {
     "data": {
      "text/plain": [
       "100.0"
      ]
     },
     "execution_count": 10,
     "metadata": {},
     "output_type": "execute_result"
    }
   ],
   "source": [
    "a=float(a)\n",
    "type(a)\n",
    "a"
   ]
  },
  {
   "cell_type": "code",
   "execution_count": 11,
   "id": "ba6a7776",
   "metadata": {},
   "outputs": [
    {
     "data": {
      "text/plain": [
       "str"
      ]
     },
     "execution_count": 11,
     "metadata": {},
     "output_type": "execute_result"
    }
   ],
   "source": [
    "type(b)"
   ]
  },
  {
   "cell_type": "code",
   "execution_count": 12,
   "id": "2f50c5b3",
   "metadata": {},
   "outputs": [
    {
     "data": {
      "text/plain": [
       "False"
      ]
     },
     "execution_count": 12,
     "metadata": {},
     "output_type": "execute_result"
    }
   ],
   "source": [
    "a=0\n",
    "a=bool(a)\n",
    "a"
   ]
  },
  {
   "cell_type": "code",
   "execution_count": 13,
   "id": "bf5cbff1",
   "metadata": {},
   "outputs": [
    {
     "data": {
      "text/plain": [
       "True"
      ]
     },
     "execution_count": 13,
     "metadata": {},
     "output_type": "execute_result"
    }
   ],
   "source": [
    "a=10\n",
    "a=bool(a)\n",
    "a"
   ]
  },
  {
   "cell_type": "code",
   "execution_count": 14,
   "id": "345f7f0d",
   "metadata": {},
   "outputs": [
    {
     "data": {
      "text/plain": [
       "'Amey zende'"
      ]
     },
     "execution_count": 14,
     "metadata": {},
     "output_type": "execute_result"
    }
   ],
   "source": [
    "a=\"amey zende\"\n",
    "a.capitalize()"
   ]
  },
  {
   "cell_type": "code",
   "execution_count": 15,
   "id": "6a1aa75e",
   "metadata": {},
   "outputs": [
    {
     "data": {
      "text/plain": [
       "'a:m:e:y: :z:e:n:d:e'"
      ]
     },
     "execution_count": 15,
     "metadata": {},
     "output_type": "execute_result"
    }
   ],
   "source": [
    "#join function a-avia-sv-s-s-like that\n",
    "':'.join(a)"
   ]
  },
  {
   "cell_type": "code",
   "execution_count": 16,
   "id": "444ebb77",
   "metadata": {},
   "outputs": [
    {
     "data": {
      "text/plain": [
       "'a-m-e-y- -z-e-n-d-e'"
      ]
     },
     "execution_count": 16,
     "metadata": {},
     "output_type": "execute_result"
    }
   ],
   "source": [
    "'-'.join(a)"
   ]
  },
  {
   "cell_type": "code",
   "execution_count": 17,
   "id": "913a79a0",
   "metadata": {},
   "outputs": [
    {
     "data": {
      "text/plain": [
       "':'"
      ]
     },
     "execution_count": 17,
     "metadata": {},
     "output_type": "execute_result"
    }
   ],
   "source": [
    "a=\"whats are you doing\"\n",
    "a.join(':')"
   ]
  },
  {
   "cell_type": "code",
   "execution_count": 18,
   "id": "8e823f51",
   "metadata": {},
   "outputs": [
    {
     "data": {
      "text/plain": [
       "'w:h:a:t:s: :a:r:e: :y:o:u: :d:o:i:n:g'"
      ]
     },
     "execution_count": 18,
     "metadata": {},
     "output_type": "execute_result"
    }
   ],
   "source": [
    "':'.join(a)"
   ]
  },
  {
   "cell_type": "code",
   "execution_count": 19,
   "id": "3043f4e8",
   "metadata": {},
   "outputs": [
    {
     "data": {
      "text/plain": [
       "'whats are you doing'"
      ]
     },
     "execution_count": 19,
     "metadata": {},
     "output_type": "execute_result"
    }
   ],
   "source": [
    "a"
   ]
  },
  {
   "cell_type": "code",
   "execution_count": 20,
   "id": "81ec2037",
   "metadata": {},
   "outputs": [
    {
     "data": {
      "text/plain": [
       "10"
      ]
     },
     "execution_count": 20,
     "metadata": {},
     "output_type": "execute_result"
    }
   ],
   "source": [
    "a.index('you')"
   ]
  },
  {
   "cell_type": "code",
   "execution_count": 21,
   "id": "4d9dc11c",
   "metadata": {},
   "outputs": [
    {
     "data": {
      "text/plain": [
       "0"
      ]
     },
     "execution_count": 21,
     "metadata": {},
     "output_type": "execute_result"
    }
   ],
   "source": [
    "a.index('w')"
   ]
  },
  {
   "cell_type": "code",
   "execution_count": 22,
   "id": "ed2eac17",
   "metadata": {},
   "outputs": [
    {
     "data": {
      "text/plain": [
       "False"
      ]
     },
     "execution_count": 22,
     "metadata": {},
     "output_type": "execute_result"
    }
   ],
   "source": [
    "a.startswith('a')"
   ]
  },
  {
   "cell_type": "code",
   "execution_count": 23,
   "id": "8adf1091",
   "metadata": {},
   "outputs": [
    {
     "data": {
      "text/plain": [
       "True"
      ]
     },
     "execution_count": 23,
     "metadata": {},
     "output_type": "execute_result"
    }
   ],
   "source": [
    "a.startswith('w')"
   ]
  },
  {
   "cell_type": "code",
   "execution_count": 24,
   "id": "51f749b0",
   "metadata": {},
   "outputs": [
    {
     "data": {
      "text/plain": [
       "'whats is she doing'"
      ]
     },
     "execution_count": 24,
     "metadata": {},
     "output_type": "execute_result"
    }
   ],
   "source": [
    "#replace(old,new)\n",
    "a.replace(\"are you\",'is she')"
   ]
  },
  {
   "cell_type": "code",
   "execution_count": 25,
   "id": "735fbb15",
   "metadata": {},
   "outputs": [
    {
     "data": {
      "text/plain": [
       "'whats are you doing'"
      ]
     },
     "execution_count": 25,
     "metadata": {},
     "output_type": "execute_result"
    }
   ],
   "source": [
    "a     #but replaced changes is temporary"
   ]
  },
  {
   "cell_type": "code",
   "execution_count": 26,
   "id": "965f9396",
   "metadata": {},
   "outputs": [
    {
     "data": {
      "text/plain": [
       "['whats', 'are', 'you', 'doing']"
      ]
     },
     "execution_count": 26,
     "metadata": {},
     "output_type": "execute_result"
    }
   ],
   "source": [
    "#split-split in list\n",
    "#for list of data\n",
    "\n",
    "a.split(' ')"
   ]
  },
  {
   "cell_type": "code",
   "execution_count": 27,
   "id": "4bb28504",
   "metadata": {},
   "outputs": [
    {
     "data": {
      "text/plain": [
       "'WHATS ARE YOU DOING'"
      ]
     },
     "execution_count": 27,
     "metadata": {},
     "output_type": "execute_result"
    }
   ],
   "source": [
    "a.swapcase()"
   ]
  },
  {
   "cell_type": "code",
   "execution_count": 28,
   "id": "105c156c",
   "metadata": {},
   "outputs": [
    {
     "data": {
      "text/plain": [
       "'whats are you doing'"
      ]
     },
     "execution_count": 28,
     "metadata": {},
     "output_type": "execute_result"
    }
   ],
   "source": [
    "a.lower()"
   ]
  },
  {
   "cell_type": "code",
   "execution_count": 29,
   "id": "2ebd3f85",
   "metadata": {},
   "outputs": [
    {
     "data": {
      "text/plain": [
       "'WHATS ARE YOU DOING'"
      ]
     },
     "execution_count": 29,
     "metadata": {},
     "output_type": "execute_result"
    }
   ],
   "source": [
    "a.upper()"
   ]
  },
  {
   "cell_type": "code",
   "execution_count": 30,
   "id": "64979366",
   "metadata": {},
   "outputs": [
    {
     "data": {
      "text/plain": [
       "'Whats Are You Doing'"
      ]
     },
     "execution_count": 30,
     "metadata": {},
     "output_type": "execute_result"
    }
   ],
   "source": [
    "a.title()      # every word star with cap letter"
   ]
  },
  {
   "cell_type": "markdown",
   "id": "583399d8",
   "metadata": {},
   "source": [
    "data structure"
   ]
  },
  {
   "cell_type": "code",
   "execution_count": 31,
   "id": "93edbbf2",
   "metadata": {},
   "outputs": [
    {
     "data": {
      "text/plain": [
       "[10, 'amey', True]"
      ]
     },
     "execution_count": 31,
     "metadata": {},
     "output_type": "execute_result"
    }
   ],
   "source": [
    "#list -   mutable,heterogeneous,1D\n",
    "\n",
    "a=[10,'amey',True]\n",
    "a"
   ]
  },
  {
   "cell_type": "code",
   "execution_count": 32,
   "id": "7148b84f",
   "metadata": {},
   "outputs": [
    {
     "data": {
      "text/plain": [
       "list"
      ]
     },
     "execution_count": 32,
     "metadata": {},
     "output_type": "execute_result"
    }
   ],
   "source": [
    "type(a)"
   ]
  },
  {
   "cell_type": "code",
   "execution_count": 33,
   "id": "6527c106",
   "metadata": {},
   "outputs": [
    {
     "data": {
      "text/plain": [
       "('amey', True)"
      ]
     },
     "execution_count": 33,
     "metadata": {},
     "output_type": "execute_result"
    }
   ],
   "source": [
    "a[1],a[-1]"
   ]
  },
  {
   "cell_type": "code",
   "execution_count": 34,
   "id": "a073004e",
   "metadata": {},
   "outputs": [
    {
     "data": {
      "text/plain": [
       "[10, 'amey', True]"
      ]
     },
     "execution_count": 34,
     "metadata": {},
     "output_type": "execute_result"
    }
   ],
   "source": [
    "a[0:3]"
   ]
  },
  {
   "cell_type": "code",
   "execution_count": 35,
   "id": "621b27ab",
   "metadata": {},
   "outputs": [],
   "source": [
    "a.append('20')   # two time run two times added at last of list"
   ]
  },
  {
   "cell_type": "code",
   "execution_count": 36,
   "id": "d3a913e1",
   "metadata": {},
   "outputs": [
    {
     "data": {
      "text/plain": [
       "[10, 'amey', True, '20']"
      ]
     },
     "execution_count": 36,
     "metadata": {},
     "output_type": "execute_result"
    }
   ],
   "source": [
    "a"
   ]
  },
  {
   "cell_type": "code",
   "execution_count": 37,
   "id": "28ba27a8",
   "metadata": {},
   "outputs": [
    {
     "data": {
      "text/plain": [
       "1"
      ]
     },
     "execution_count": 37,
     "metadata": {},
     "output_type": "execute_result"
    }
   ],
   "source": [
    "a.count('20')"
   ]
  },
  {
   "cell_type": "code",
   "execution_count": 38,
   "id": "95266d32",
   "metadata": {},
   "outputs": [
    {
     "data": {
      "text/plain": [
       "0"
      ]
     },
     "execution_count": 38,
     "metadata": {},
     "output_type": "execute_result"
    }
   ],
   "source": [
    "a.count('2')"
   ]
  },
  {
   "cell_type": "code",
   "execution_count": 39,
   "id": "8b298929",
   "metadata": {},
   "outputs": [],
   "source": [
    "a.append(0)"
   ]
  },
  {
   "cell_type": "code",
   "execution_count": 40,
   "id": "0d3ee1cd",
   "metadata": {},
   "outputs": [
    {
     "data": {
      "text/plain": [
       "[10, 'amey', True, '20', 0]"
      ]
     },
     "execution_count": 40,
     "metadata": {},
     "output_type": "execute_result"
    }
   ],
   "source": [
    "a"
   ]
  },
  {
   "cell_type": "code",
   "execution_count": 41,
   "id": "7ef81e1d",
   "metadata": {},
   "outputs": [
    {
     "data": {
      "text/plain": [
       "1"
      ]
     },
     "execution_count": 41,
     "metadata": {},
     "output_type": "execute_result"
    }
   ],
   "source": [
    "a.count(True)"
   ]
  },
  {
   "cell_type": "code",
   "execution_count": 42,
   "id": "11d47d94",
   "metadata": {},
   "outputs": [
    {
     "data": {
      "text/plain": [
       "1"
      ]
     },
     "execution_count": 42,
     "metadata": {},
     "output_type": "execute_result"
    }
   ],
   "source": [
    "a.count(False)"
   ]
  },
  {
   "cell_type": "code",
   "execution_count": 43,
   "id": "b63be26a",
   "metadata": {},
   "outputs": [
    {
     "data": {
      "text/plain": [
       "1"
      ]
     },
     "execution_count": 43,
     "metadata": {},
     "output_type": "execute_result"
    }
   ],
   "source": [
    "a.index('amey')"
   ]
  },
  {
   "cell_type": "code",
   "execution_count": 44,
   "id": "91b4b92f",
   "metadata": {},
   "outputs": [
    {
     "data": {
      "text/plain": [
       "2"
      ]
     },
     "execution_count": 44,
     "metadata": {},
     "output_type": "execute_result"
    }
   ],
   "source": [
    "a.index(1)"
   ]
  },
  {
   "cell_type": "code",
   "execution_count": 45,
   "id": "8c4a8605",
   "metadata": {},
   "outputs": [],
   "source": [
    "#insert(index,value)\n",
    "\n",
    "a.insert(2,False)"
   ]
  },
  {
   "cell_type": "code",
   "execution_count": 46,
   "id": "b303a722",
   "metadata": {},
   "outputs": [],
   "source": [
    "a.insert(1,16.11)"
   ]
  },
  {
   "cell_type": "code",
   "execution_count": 47,
   "id": "f49880bc",
   "metadata": {},
   "outputs": [
    {
     "data": {
      "text/plain": [
       "[10, 16.11, 'amey', False, True, '20', 0]"
      ]
     },
     "execution_count": 47,
     "metadata": {},
     "output_type": "execute_result"
    }
   ],
   "source": [
    "a"
   ]
  },
  {
   "cell_type": "code",
   "execution_count": 48,
   "id": "8cf301c0",
   "metadata": {},
   "outputs": [
    {
     "data": {
      "text/plain": [
       "0"
      ]
     },
     "execution_count": 48,
     "metadata": {},
     "output_type": "execute_result"
    }
   ],
   "source": [
    "#pop last value remove how much time run that much vak =lue remove\n",
    "\n",
    "a.pop() #two time run"
   ]
  },
  {
   "cell_type": "code",
   "execution_count": 49,
   "id": "42d2f6f2",
   "metadata": {},
   "outputs": [
    {
     "data": {
      "text/plain": [
       "[10, 16.11, 'amey', False, True, '20']"
      ]
     },
     "execution_count": 49,
     "metadata": {},
     "output_type": "execute_result"
    }
   ],
   "source": [
    "a"
   ]
  },
  {
   "cell_type": "code",
   "execution_count": 50,
   "id": "ee80e4ab",
   "metadata": {},
   "outputs": [
    {
     "data": {
      "text/plain": [
       "['20', True, False, 'amey', 16.11, 10]"
      ]
     },
     "execution_count": 50,
     "metadata": {},
     "output_type": "execute_result"
    }
   ],
   "source": [
    "a.reverse()\n",
    "a"
   ]
  },
  {
   "cell_type": "code",
   "execution_count": 56,
   "id": "36c7932c",
   "metadata": {},
   "outputs": [
    {
     "ename": "TypeError",
     "evalue": "list.remove() takes exactly one argument (0 given)",
     "output_type": "error",
     "traceback": [
      "\u001b[1;31m---------------------------------------------------------------------------\u001b[0m",
      "\u001b[1;31mTypeError\u001b[0m                                 Traceback (most recent call last)",
      "\u001b[1;32m~\\AppData\\Local\\Temp\\ipykernel_11292\\4281431706.py\u001b[0m in \u001b[0;36m<module>\u001b[1;34m\u001b[0m\n\u001b[0;32m      1\u001b[0m \u001b[1;31m#remove(value)\u001b[0m\u001b[1;33m\u001b[0m\u001b[1;33m\u001b[0m\u001b[0m\n\u001b[0;32m      2\u001b[0m \u001b[1;33m\u001b[0m\u001b[0m\n\u001b[1;32m----> 3\u001b[1;33m \u001b[0ma\u001b[0m\u001b[1;33m.\u001b[0m\u001b[0mremove\u001b[0m\u001b[1;33m(\u001b[0m\u001b[1;33m)\u001b[0m\u001b[1;33m\u001b[0m\u001b[1;33m\u001b[0m\u001b[0m\n\u001b[0m\u001b[0;32m      4\u001b[0m \u001b[0ma\u001b[0m\u001b[1;33m\u001b[0m\u001b[1;33m\u001b[0m\u001b[0m\n",
      "\u001b[1;31mTypeError\u001b[0m: list.remove() takes exactly one argument (0 given)"
     ]
    }
   ],
   "source": [
    "#remove(value)\n",
    "\n",
    "a.remove()\n",
    "a"
   ]
  },
  {
   "cell_type": "code",
   "execution_count": 58,
   "id": "9fbcfc10",
   "metadata": {},
   "outputs": [
    {
     "data": {
      "text/plain": [
       "['20', True, False, 'amey', 16.11, 10, '18.34', '18.34']"
      ]
     },
     "execution_count": 58,
     "metadata": {},
     "output_type": "execute_result"
    }
   ],
   "source": [
    "a.append('18.34')\n",
    "a"
   ]
  },
  {
   "cell_type": "code",
   "execution_count": 60,
   "id": "a5bd0b08",
   "metadata": {},
   "outputs": [
    {
     "data": {
      "text/plain": [
       "['20', True, False, 'amey', 17, 10, '18.34', '18.34']"
      ]
     },
     "execution_count": 60,
     "metadata": {},
     "output_type": "execute_result"
    }
   ],
   "source": [
    "a[4]=17\n",
    "a"
   ]
  },
  {
   "cell_type": "code",
   "execution_count": 62,
   "id": "7303d3ab",
   "metadata": {},
   "outputs": [
    {
     "data": {
      "text/plain": [
       "['20', True, False, 'amey', 17, 17, 17, 10, '18.34', '18.34']"
      ]
     },
     "execution_count": 62,
     "metadata": {},
     "output_type": "execute_result"
    }
   ],
   "source": [
    "a[4:5]=(17,17)\n",
    "a"
   ]
  },
  {
   "cell_type": "code",
   "execution_count": 64,
   "id": "9f44671f",
   "metadata": {},
   "outputs": [],
   "source": [
    "a[0:1]=(1,0)"
   ]
  },
  {
   "cell_type": "code",
   "execution_count": 65,
   "id": "5f4eff58",
   "metadata": {},
   "outputs": [
    {
     "data": {
      "text/plain": [
       "[1, 0, 0, True, False, 'amey', 17, 17, 17, 10, '18.34', '18.34']"
      ]
     },
     "execution_count": 65,
     "metadata": {},
     "output_type": "execute_result"
    }
   ],
   "source": [
    "a"
   ]
  },
  {
   "cell_type": "markdown",
   "id": "d945a037",
   "metadata": {},
   "source": [
    "tuple"
   ]
  },
  {
   "cell_type": "code",
   "execution_count": 67,
   "id": "bd050438",
   "metadata": {},
   "outputs": [
    {
     "data": {
      "text/plain": [
       "(10, 'zolo', 10.32, True)"
      ]
     },
     "execution_count": 67,
     "metadata": {},
     "output_type": "execute_result"
    }
   ],
   "source": [
    "#hetrogeneos, immutable t=()\n",
    "\n",
    "t=(10,\"zolo\",10.32,True)\n",
    "t"
   ]
  },
  {
   "cell_type": "code",
   "execution_count": 70,
   "id": "e63ef7ff",
   "metadata": {},
   "outputs": [
    {
     "data": {
      "text/plain": [
       "1"
      ]
     },
     "execution_count": 70,
     "metadata": {},
     "output_type": "execute_result"
    }
   ],
   "source": [
    "t.count(1)     #true=1"
   ]
  },
  {
   "cell_type": "code",
   "execution_count": 72,
   "id": "03263992",
   "metadata": {},
   "outputs": [
    {
     "data": {
      "text/plain": [
       "1"
      ]
     },
     "execution_count": 72,
     "metadata": {},
     "output_type": "execute_result"
    }
   ],
   "source": [
    "t.count('zolo')"
   ]
  },
  {
   "cell_type": "code",
   "execution_count": 74,
   "id": "90cdbb87",
   "metadata": {},
   "outputs": [
    {
     "data": {
      "text/plain": [
       "3"
      ]
     },
     "execution_count": 74,
     "metadata": {},
     "output_type": "execute_result"
    }
   ],
   "source": [
    "t.index(True)"
   ]
  },
  {
   "cell_type": "code",
   "execution_count": 75,
   "id": "8a8ef49e",
   "metadata": {},
   "outputs": [
    {
     "data": {
      "text/plain": [
       "[20, 'zolo', 10.32, True]"
      ]
     },
     "execution_count": 75,
     "metadata": {},
     "output_type": "execute_result"
    }
   ],
   "source": [
    "#for change in tuple not possibe but it can be done by typecasting\n",
    "\n",
    "t1=list(t)\n",
    "t1[0]=20\n",
    "t1"
   ]
  },
  {
   "cell_type": "code",
   "execution_count": 77,
   "id": "d656412d",
   "metadata": {},
   "outputs": [
    {
     "data": {
      "text/plain": [
       "(20, 'zolo', 10.32, True)"
      ]
     },
     "execution_count": 77,
     "metadata": {},
     "output_type": "execute_result"
    }
   ],
   "source": [
    "t=tuple(t1)\n",
    "t"
   ]
  },
  {
   "cell_type": "markdown",
   "id": "5a332692",
   "metadata": {},
   "source": [
    "dictionary mutable its a key,value pair are ordered collection"
   ]
  },
  {
   "cell_type": "code",
   "execution_count": 78,
   "id": "f6188e1e",
   "metadata": {},
   "outputs": [
    {
     "data": {
      "text/plain": [
       "{1: 'amey', 2: 'advait', 3: 'zende'}"
      ]
     },
     "execution_count": 78,
     "metadata": {},
     "output_type": "execute_result"
    }
   ],
   "source": [
    "d={1:\"amey\",2:\"advait\",3:\"zende\"}\n",
    "d"
   ]
  },
  {
   "cell_type": "code",
   "execution_count": 79,
   "id": "fde167ce",
   "metadata": {},
   "outputs": [
    {
     "data": {
      "text/plain": [
       "dict"
      ]
     },
     "execution_count": 79,
     "metadata": {},
     "output_type": "execute_result"
    }
   ],
   "source": [
    "type(d)"
   ]
  },
  {
   "cell_type": "code",
   "execution_count": 80,
   "id": "1bea42f7",
   "metadata": {},
   "outputs": [
    {
     "data": {
      "text/plain": [
       "'zende'"
      ]
     },
     "execution_count": 80,
     "metadata": {},
     "output_type": "execute_result"
    }
   ],
   "source": [
    "d.get(3) #get the value of that key. key is always unique"
   ]
  },
  {
   "cell_type": "code",
   "execution_count": 81,
   "id": "7020082e",
   "metadata": {},
   "outputs": [
    {
     "data": {
      "text/plain": [
       "dict_items([(1, 'amey'), (2, 'advait'), (3, 'zende')])"
      ]
     },
     "execution_count": 81,
     "metadata": {},
     "output_type": "execute_result"
    }
   ],
   "source": [
    "d.items()"
   ]
  },
  {
   "cell_type": "code",
   "execution_count": 82,
   "id": "c032b05a",
   "metadata": {},
   "outputs": [
    {
     "data": {
      "text/plain": [
       "dict_values(['amey', 'advait', 'zende'])"
      ]
     },
     "execution_count": 82,
     "metadata": {},
     "output_type": "execute_result"
    }
   ],
   "source": [
    "d.values()"
   ]
  },
  {
   "cell_type": "code",
   "execution_count": 83,
   "id": "3b065a32",
   "metadata": {},
   "outputs": [
    {
     "data": {
      "text/plain": [
       "dict_keys([1, 2, 3])"
      ]
     },
     "execution_count": 83,
     "metadata": {},
     "output_type": "execute_result"
    }
   ],
   "source": [
    "d.keys()"
   ]
  },
  {
   "cell_type": "code",
   "execution_count": 84,
   "id": "e11a06dd",
   "metadata": {},
   "outputs": [],
   "source": [
    "d.update({4:\"data scientist\"})"
   ]
  },
  {
   "cell_type": "code",
   "execution_count": 85,
   "id": "8aaccd9f",
   "metadata": {},
   "outputs": [
    {
     "data": {
      "text/plain": [
       "{1: 'amey', 2: 'advait', 3: 'zende', 4: 'data scientist'}"
      ]
     },
     "execution_count": 85,
     "metadata": {},
     "output_type": "execute_result"
    }
   ],
   "source": [
    "d"
   ]
  },
  {
   "cell_type": "code",
   "execution_count": 86,
   "id": "e02c1ba9",
   "metadata": {},
   "outputs": [
    {
     "data": {
      "text/plain": [
       "'data scientist'"
      ]
     },
     "execution_count": 86,
     "metadata": {},
     "output_type": "execute_result"
    }
   ],
   "source": [
    "#pop   in dict is remove input key value\n",
    "\n",
    "d.pop(4)"
   ]
  },
  {
   "cell_type": "code",
   "execution_count": 87,
   "id": "b7f7c073",
   "metadata": {},
   "outputs": [
    {
     "data": {
      "text/plain": [
       "{1: 'amey', 2: 'advait', 3: 'zende'}"
      ]
     },
     "execution_count": 87,
     "metadata": {},
     "output_type": "execute_result"
    }
   ],
   "source": [
    "d"
   ]
  },
  {
   "cell_type": "markdown",
   "id": "b48d39a9",
   "metadata": {},
   "source": [
    "set"
   ]
  },
  {
   "cell_type": "code",
   "execution_count": 90,
   "id": "d90fd401",
   "metadata": {},
   "outputs": [],
   "source": [
    "#immutable not allow duplicated value, unordered,unindexed data s={10,31,\"aa\"}\n",
    "\n",
    "s={10,31,\"aa\",False}"
   ]
  },
  {
   "cell_type": "code",
   "execution_count": 91,
   "id": "7df016b9",
   "metadata": {},
   "outputs": [
    {
     "data": {
      "text/plain": [
       "{10, 12, 19, 23, 302}"
      ]
     },
     "execution_count": 91,
     "metadata": {},
     "output_type": "execute_result"
    }
   ],
   "source": [
    "s={10,302,23,12,10,19,10}\n",
    "s"
   ]
  },
  {
   "cell_type": "code",
   "execution_count": 92,
   "id": "e0aacce1",
   "metadata": {},
   "outputs": [],
   "source": [
    "s.add(16)"
   ]
  },
  {
   "cell_type": "code",
   "execution_count": 93,
   "id": "f13edf05",
   "metadata": {},
   "outputs": [
    {
     "data": {
      "text/plain": [
       "{10, 12, 16, 19, 23, 302}"
      ]
     },
     "execution_count": 93,
     "metadata": {},
     "output_type": "execute_result"
    }
   ],
   "source": [
    "s"
   ]
  },
  {
   "cell_type": "code",
   "execution_count": 94,
   "id": "8227f41d",
   "metadata": {},
   "outputs": [
    {
     "data": {
      "text/plain": [
       "16"
      ]
     },
     "execution_count": 94,
     "metadata": {},
     "output_type": "execute_result"
    }
   ],
   "source": [
    "s.pop()"
   ]
  },
  {
   "cell_type": "code",
   "execution_count": 95,
   "id": "7d3df707",
   "metadata": {},
   "outputs": [
    {
     "data": {
      "text/plain": [
       "19"
      ]
     },
     "execution_count": 95,
     "metadata": {},
     "output_type": "execute_result"
    }
   ],
   "source": [
    "s.pop()"
   ]
  },
  {
   "cell_type": "code",
   "execution_count": 96,
   "id": "f302b3e9",
   "metadata": {},
   "outputs": [
    {
     "data": {
      "text/plain": [
       "{10, 12, 23, 302}"
      ]
     },
     "execution_count": 96,
     "metadata": {},
     "output_type": "execute_result"
    }
   ],
   "source": [
    "s"
   ]
  },
  {
   "cell_type": "code",
   "execution_count": null,
   "id": "088e8d44",
   "metadata": {},
   "outputs": [],
   "source": []
  }
 ],
 "metadata": {
  "kernelspec": {
   "display_name": "Python 3 (ipykernel)",
   "language": "python",
   "name": "python3"
  },
  "language_info": {
   "codemirror_mode": {
    "name": "ipython",
    "version": 3
   },
   "file_extension": ".py",
   "mimetype": "text/x-python",
   "name": "python",
   "nbconvert_exporter": "python",
   "pygments_lexer": "ipython3",
   "version": "3.9.13"
  }
 },
 "nbformat": 4,
 "nbformat_minor": 5
}
